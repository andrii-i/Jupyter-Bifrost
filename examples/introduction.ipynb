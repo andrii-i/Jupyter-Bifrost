{
 "cells": [
  {
   "cell_type": "markdown",
   "metadata": {},
   "source": [
    "# Introduction"
   ]
  },
  {
   "cell_type": "code",
   "execution_count": 1,
   "metadata": {},
   "outputs": [],
   "source": [
    "import jupyter_bifrost\n",
    "import pandas as pd\n",
    "import numpy as np\n",
    "from sklearn.datasets import load_iris"
   ]
  },
  {
   "cell_type": "code",
   "execution_count": 2,
   "metadata": {},
   "outputs": [
    {
     "data": {
      "text/plain": [
       "Index(['foo', 'y', 'bar', 'baz', 'something', 'else'], dtype='object')"
      ]
     },
     "execution_count": 3,
     "metadata": {},
     "output_type": "execute_result"
    },
    {
     "name": "stdout",
     "output_type": "stream",
     "text": [
      "<ExecutionResult object at 128b4c790, execution_count=None error_before_exec=None error_in_exec=None info=<ExecutionInfo object at 108e646a0, raw_cell=\"scatter_df.columns\" store_history=False silent=False shell_futures=True> result=Index(['foo', 'y', 'bar', 'baz', 'something', 'else'], dtype='object')>\n",
      "<ExecutionResult object at 128e82b20, execution_count=None error_before_exec=None error_in_exec=None info=<ExecutionInfo object at 128e82b50, raw_cell=\"scatter_df.columns\" store_history=False silent=True shell_futures=True> result=None>\n",
      "None\n",
      "Error in callback <bound method BifrostWatcher.post_run_cell of <jupyter-bifrost-tracing.bifrost_tracing.bifrost_tracing.BifrostWatcher object at 0x11b9559a0>> (for post_run_cell):\n"
     ]
    },
    {
     "ename": "TypeError",
     "evalue": "'NoneType' object is not iterable",
     "output_type": "error",
     "traceback": [
      "\u001b[0;31m---------------------------------------------------------------------------\u001b[0m",
      "\u001b[0;31mTypeError\u001b[0m                                 Traceback (most recent call last)",
      "\u001b[0;32m~/projects/jupyter_widget/Jupyter-Bifrost/jupyter-bifrost-tracing/bifrost_tracing/bifrost_tracing.py\u001b[0m in \u001b[0;36mpost_run_cell\u001b[0;34m(self, result)\u001b[0m\n\u001b[1;32m     38\u001b[0m                     \u001b[0mself\u001b[0m\u001b[0;34m.\u001b[0m\u001b[0mbifrost_table\u001b[0m\u001b[0;34m[\u001b[0m\u001b[0mnew_df\u001b[0m\u001b[0;34m]\u001b[0m\u001b[0;34m[\u001b[0m\u001b[0mnew_col\u001b[0m\u001b[0;34m]\u001b[0m \u001b[0;34m=\u001b[0m \u001b[0;36m0\u001b[0m\u001b[0;34m\u001b[0m\u001b[0;34m\u001b[0m\u001b[0m\n\u001b[1;32m     39\u001b[0m             \u001b[0;32melse\u001b[0m\u001b[0;34m:\u001b[0m\u001b[0;34m\u001b[0m\u001b[0;34m\u001b[0m\u001b[0m\n\u001b[0;32m---> 40\u001b[0;31m                 \u001b[0mself\u001b[0m\u001b[0;34m.\u001b[0m\u001b[0mbifrost_table\u001b[0m\u001b[0;34m[\u001b[0m\u001b[0mnew_df\u001b[0m\u001b[0;34m]\u001b[0m \u001b[0;34m=\u001b[0m \u001b[0;34m{\u001b[0m\u001b[0mcol\u001b[0m\u001b[0;34m:\u001b[0m \u001b[0;36m0\u001b[0m \u001b[0;32mfor\u001b[0m \u001b[0mcol\u001b[0m \u001b[0;32min\u001b[0m \u001b[0mcolumns\u001b[0m\u001b[0;34m}\u001b[0m\u001b[0;34m\u001b[0m\u001b[0;34m\u001b[0m\u001b[0m\n\u001b[0m\u001b[1;32m     41\u001b[0m         \u001b[0mself\u001b[0m\u001b[0;34m.\u001b[0m\u001b[0mvisitor\u001b[0m \u001b[0;34m=\u001b[0m \u001b[0;32mNone\u001b[0m\u001b[0;34m\u001b[0m\u001b[0;34m\u001b[0m\u001b[0m\n\u001b[1;32m     42\u001b[0m \u001b[0;34m\u001b[0m\u001b[0m\n",
      "\u001b[0;31mTypeError\u001b[0m: 'NoneType' object is not iterable"
     ]
    }
   ],
   "source": [
    "cols = [\"foo\",\"y\", \"bar\", \"baz\", \"something\", \"else\"]\n",
    "dist = np.random.uniform(0,1, size=(1000,len(cols)))\n",
    "scatter_df = pd.DataFrame(dist, columns=cols)\n",
    "\n",
    "bar_df = pd.DataFrame([\n",
    "    [\"John\", \"Developer\", 1],\n",
    "    [\"Jay\", \"Developer\", 2],\n",
    "    [\"Angela\", \"Designer\", 1],\n",
    "    [\"Brian\", \"Leader\", 20]\n",
    "], columns=[\"Name\", \"Job\", \"Years Worked For Jupyter\"])\n",
    "\n",
    "iris_ds = load_iris()\n",
    "iris_df = pd.DataFrame(iris_ds[\"data\"], columns=iris_ds[\"feature_names\"])\n",
    "titanic_df = pd.read_csv('https://raw.githubusercontent.com/mwaskom/seaborn-data/master/titanic.csv')\n",
    "iris_df['class'] = ['iris_setosa'] * 50 + ['iris_versicolour'] * 50 + ['iris_virginica'] * 50 "
   ]
  },
  {
   "cell_type": "code",
   "execution_count": 26,
   "metadata": {},
   "outputs": [],
   "source": [
    "iris_df = iris_df[(iris_df['class'].isin([\"iris_versicolour\",\"iris_virginica\"]))&(iris_df['petal length (cm)'] >= 2.8355468749999995) & (iris_df['petal length (cm)'] <= 6.055546875)]\n"
   ]
  },
  {
   "cell_type": "code",
   "execution_count": null,
   "metadata": {},
   "outputs": [],
   "source": [
    "titanic_df[\"age\"].isna()"
   ]
  },
  {
   "cell_type": "code",
   "execution_count": null,
   "metadata": {},
   "outputs": [],
   "source": [
    "x = [\"zap\", \"1,2\", \"age\", \"better\"]\n",
    "sorted(x)"
   ]
  },
  {
   "cell_type": "code",
   "execution_count": null,
   "metadata": {},
   "outputs": [],
   "source": []
  }
 ],
 "metadata": {
  "kernelspec": {
   "display_name": "Python 3 (ipykernel)",
   "language": "python",
   "name": "python3"
  },
  "language_info": {
   "codemirror_mode": {
    "name": "ipython",
    "version": 3
   },
   "file_extension": ".py",
   "mimetype": "text/x-python",
   "name": "python",
   "nbconvert_exporter": "python",
   "pygments_lexer": "ipython3",
   "version": "3.9.6"
  }
 },
 "nbformat": 4,
 "nbformat_minor": 4
}
