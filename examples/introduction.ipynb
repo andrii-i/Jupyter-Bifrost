{
 "cells": [
  {
   "cell_type": "markdown",
   "metadata": {},
   "source": [
    "# Introduction"
   ]
  },
  {
   "cell_type": "code",
   "execution_count": 23,
   "metadata": {},
   "outputs": [],
   "source": [
    "import bifrost_jupyter_extension\n",
    "import pandas as pd\n",
    "import numpy as np\n",
    "from sklearn.datasets import load_iris"
   ]
  },
  {
   "cell_type": "code",
   "execution_count": 24,
   "metadata": {},
   "outputs": [
    {
     "data": {
      "text/plain": [
       "Index(['foo', 'y', 'bar', 'baz', 'something', 'else'], dtype='object')"
      ]
     },
     "execution_count": 25,
     "metadata": {},
     "output_type": "execute_result"
    },
    {
     "data": {
      "text/plain": [
       "Index(['Name', 'Job', 'Years Worked For Jupyter'], dtype='object')"
      ]
     },
     "execution_count": 25,
     "metadata": {},
     "output_type": "execute_result"
    },
    {
     "data": {
      "text/plain": [
       "Index(['sepal length (cm)', 'sepal width (cm)', 'petal length (cm)',\n",
       "       'petal width (cm)', 'class'],\n",
       "      dtype='object')"
      ]
     },
     "execution_count": 25,
     "metadata": {},
     "output_type": "execute_result"
    }
   ],
   "source": [
    "cols = [\"foo\",\"y\", \"bar\", \"baz\", \"something\", \"else\"]\n",
    "dist = np.random.uniform(0,1, size=(1000,len(cols)))\n",
    "scatter_df = pd.DataFrame(dist, columns=cols)\n",
    "\n",
    "bar_df = pd.DataFrame([\n",
    "    [\"John\", \"Developer\", 1],\n",
    "    [\"Jay\", \"Developer\", 2],\n",
    "    [\"Angela\", \"Designer\", 1],\n",
    "    [\"Brian\", \"Leader\", 20]\n",
    "], columns=[\"Name\", \"Job\", \"Years Worked For Jupyter\"])\n",
    "\n",
    "iris_ds = load_iris()\n",
    "iris_df = pd.DataFrame(iris_ds[\"data\"], columns=iris_ds[\"feature_names\"])\n",
    "iris_df['class'] = ['iris_setosa'] * 50 + ['iris_versicolour'] * 50 + ['iris_virginica'] * 50"
   ]
  },
  {
   "cell_type": "code",
   "execution_count": 25,
   "metadata": {},
   "outputs": [
    {
     "data": {
      "application/vnd.jupyter.widget-view+json": {
       "model_id": "d667d67364964453b9251f5670ea3904",
       "version_major": 2,
       "version_minor": 0
      },
      "text/plain": [
       "BifrostWidget(df_columns=['sepal length (cm)', 'sepal width (cm)', 'petal length (cm)', 'petal width (cm)', 'c…"
      ]
     },
     "metadata": {},
     "output_type": "display_data"
    }
   ],
   "source": [
    "res = iris_df.bifrost.plot(x=\"sepal length (cm)\", y=\"petal length (cm)\")"
   ]
  },
  {
   "cell_type": "code",
   "execution_count": null,
   "metadata": {},
   "outputs": [],
   "source": [
    "iris_df = iris_df[(iris_df['petal length (cm)'] >= 1) & (iris_df['petal length (cm)'] <= 6.9)]\n",
    "group_fields = [\"sepal length (cm)\",\"class\"]\n",
    "iris_df = iris_df.join(iris_df.groupby(group_fields).agg(\"mean\")[\"petal length (cm)\"], on=group_fields, rsuffix=\" mean\")"
   ]
  },
  {
   "cell_type": "code",
   "execution_count": null,
   "metadata": {},
   "outputs": [],
   "source": [
    "iris_df = iris_df[(iris_df['petal length (cm)'] >= 1) & (iris_df['petal length (cm)'] <= 6.9)]\n",
    "group_fields = [\"sepal length (cm)\",\"petal width (cm)\"]\n",
    "iris_df = iris_df.join(iris_df.groupby(group_fields).agg(\"mean\")[\"petal length (cm)\"], on=group_fields, rsuffix=\" mean\")\n"
   ]
  },
  {
   "cell_type": "code",
   "execution_count": null,
   "metadata": {},
   "outputs": [],
   "source": [
    "t = {\"x\": 1, \"y\": 2}\n",
    "y = {**t, \"y\": 3}\n",
    "y"
   ]
  },
  {
   "cell_type": "code",
   "execution_count": null,
   "metadata": {},
   "outputs": [],
   "source": []
  }
 ],
 "metadata": {
  "kernelspec": {
   "display_name": "Python 3 (ipykernel)",
   "language": "python",
   "name": "python3"
  },
  "language_info": {
   "codemirror_mode": {
    "name": "ipython",
    "version": 3
   },
   "file_extension": ".py",
   "mimetype": "text/x-python",
   "name": "python",
   "nbconvert_exporter": "python",
   "pygments_lexer": "ipython3",
   "version": "3.9.6"
  }
 },
 "nbformat": 4,
 "nbformat_minor": 4
}
