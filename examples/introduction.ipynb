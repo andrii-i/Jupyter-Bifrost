{
 "cells": [
  {
   "cell_type": "markdown",
   "metadata": {},
   "source": [
    "# Introduction"
   ]
  },
  {
   "cell_type": "code",
   "execution_count": 4,
   "metadata": {},
   "outputs": [],
   "source": [
    "import bifrost_jupyter_extension\n",
    "import pandas as pd\n",
    "import numpy as np"
   ]
  },
  {
   "cell_type": "code",
   "execution_count": 5,
   "metadata": {},
   "outputs": [],
   "source": [
    "cols = [\"foo\",\"y\", \"bar\", \"baz\", \"something\", \"else\"]\n",
    "dist = np.random.uniform(0,1, size=(1000,len(cols)))\n",
    "scatter_df = pd.DataFrame(dist, columns=cols)\n",
    "\n",
    "bar_df = pd.DataFrame([\n",
    "    [\"John\", \"Developer\", 1],\n",
    "    [\"Jay\", \"Developer\", 2],\n",
    "    [\"Angela\", \"Designer\", 1],\n",
    "    [\"Brian\", \"Leader\", 20]\n",
    "], columns=[\"Name\", \"Job\", \"Years Worked For Jupyter\"])"
   ]
  },
  {
   "cell_type": "code",
   "execution_count": 8,
   "metadata": {},
   "outputs": [
    {
     "data": {
      "application/vnd.jupyter.widget-view+json": {
       "model_id": "7d789541be9c4566b371c25a1f10d085",
       "version_major": 2,
       "version_minor": 0
      },
      "text/plain": [
       "BifrostWidget(df_columns=['Name', 'Job', 'Years Worked For Jupyter'], flags={'columns_provided': True, 'kind_p…"
      ]
     },
     "metadata": {},
     "output_type": "display_data"
    }
   ],
   "source": [
    "res = bar_df.bifrost.plot(x=\"Name\", y=\"Job\", kind=\"bar\")"
   ]
  },
  {
   "cell_type": "code",
   "execution_count": null,
   "metadata": {},
   "outputs": [],
   "source": [
    "df.geo.plot()"
   ]
  },
  {
   "cell_type": "code",
   "execution_count": null,
   "metadata": {},
   "outputs": [],
   "source": []
  }
 ],
 "metadata": {
  "kernelspec": {
   "display_name": "Python 3",
   "language": "python",
   "name": "python3"
  },
  "language_info": {
   "codemirror_mode": {
    "name": "ipython",
    "version": 3
   },
   "file_extension": ".py",
   "mimetype": "text/x-python",
   "name": "python",
   "nbconvert_exporter": "python",
   "pygments_lexer": "ipython3",
   "version": "3.9.5"
  }
 },
 "nbformat": 4,
 "nbformat_minor": 4
}
