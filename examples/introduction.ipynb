{
 "cells": [
  {
   "cell_type": "markdown",
   "metadata": {},
   "source": [
    "# Introduction"
   ]
  },
  {
   "cell_type": "code",
   "execution_count": 1,
   "metadata": {},
   "outputs": [],
   "source": [
    "import bifrost_jupyter_extension.bifrost_accessor\n",
    "import pandas as pd\n",
    "import numpy as np"
   ]
  },
  {
   "cell_type": "code",
   "execution_count": 2,
   "metadata": {},
   "outputs": [],
   "source": [
    "dist = np.random.uniform(0,1, size=(30,4))\n",
    "df = pd.DataFrame(dist, columns=[\"foo\",\"y\", \"bar\", \"baz\"])"
   ]
  },
  {
   "cell_type": "code",
   "execution_count": 14,
   "metadata": {},
   "outputs": [
    {
     "data": {
      "application/vnd.jupyter.widget-view+json": {
       "model_id": "820aeb90db4448e590812ce1b2cfb981",
       "version_major": 2,
       "version_minor": 0
      },
      "text/plain": [
       "BifrostWidget(df_columns=['foo', 'y', 'bar', 'baz'], graph_data=[{'foo': 0.0803579951, 'y': 0.5735504446, 'bar…"
      ]
     },
     "metadata": {},
     "output_type": "display_data"
    }
   ],
   "source": [
    "res = df.bifrost.plot()"
   ]
  },
  {
   "cell_type": "code",
   "execution_count": 9,
   "metadata": {},
   "outputs": [
    {
     "name": "stderr",
     "output_type": "stream",
     "text": [
      "<ipython-input-9-9ccc3d447025>:2: UserWarning: registration of accessor <class '__main__.GeoAccessor'> under name 'geo' for type <class 'pandas.core.frame.DataFrame'> is overriding a preexisting attribute with the same name.\n",
      "  class GeoAccessor:\n"
     ]
    }
   ],
   "source": [
    "@pd.api.extensions.register_dataframe_accessor(\"geo\")\n",
    "class GeoAccessor:\n",
    "    def __init__(self, pandas_obj):\n",
    "#         self._validate(pandas_obj)\n",
    "        self._obj = pandas_obj\n",
    "\n",
    "#     @staticmethod\n",
    "#     def _validate(obj):\n",
    "#         # verify there is a column latitude and a column longitude\n",
    "#         if \"latitude\" not in obj.columns or \"longitude\" not in obj.columns:\n",
    "#             raise AttributeError(\"Must have 'latitude' and 'longitude'.\")\n",
    "\n",
    "    @property\n",
    "    def center(self):\n",
    "        # return the geographic center point of this DataFrame\n",
    "        lat = self._obj.latitude\n",
    "        lon = self._obj.longitude\n",
    "        return (float(lon.mean()), float(lat.mean()))\n",
    "\n",
    "    def plot(self):\n",
    "        # plot this array's data on a map, e.g., using Cartopy\n",
    "        pass"
   ]
  },
  {
   "cell_type": "code",
   "execution_count": 12,
   "metadata": {},
   "outputs": [],
   "source": [
    "df.geo.plot()"
   ]
  },
  {
   "cell_type": "code",
   "execution_count": null,
   "metadata": {},
   "outputs": [],
   "source": []
  }
 ],
 "metadata": {
  "kernelspec": {
   "display_name": "Python 3",
   "language": "python",
   "name": "python3"
  },
  "language_info": {
   "codemirror_mode": {
    "name": "ipython",
    "version": 3
   },
   "file_extension": ".py",
   "mimetype": "text/x-python",
   "name": "python",
   "nbconvert_exporter": "python",
   "pygments_lexer": "ipython3",
   "version": "3.9.5"
  }
 },
 "nbformat": 4,
 "nbformat_minor": 4
}
