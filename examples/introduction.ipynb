{
 "cells": [
  {
   "cell_type": "markdown",
   "metadata": {},
   "source": [
    "# Introduction"
   ]
  },
  {
   "cell_type": "code",
<<<<<<< HEAD
   "execution_count": 4,
=======
<<<<<<< HEAD
<<<<<<< HEAD
<<<<<<< HEAD
   "execution_count": 88,
=======
=======
>>>>>>> df872e6 (Added vegalite categorial and quantitive chart lists)
<<<<<<< HEAD
   "execution_count": 10,
=======
   "execution_count": 22,
>>>>>>> 5f66182 (Implemented mark customization)
<<<<<<< HEAD
>>>>>>> 0893756 (Implemented mark customization)
=======
=======
   "execution_count": 1,
>>>>>>> d60a3bf (Added vegalite categorial and quantitive chart lists)
>>>>>>> df872e6 (Added vegalite categorial and quantitive chart lists)
=======
   "execution_count": 10,
>>>>>>> 52d8dd6 (Implemented mark customization subtab)
>>>>>>> 85f30aa537c7ab4ba78cf395dffbea8190952afa
   "metadata": {},
   "outputs": [],
   "source": [
    "import bifrost_jupyter_extension\n",
    "import pandas as pd\n",
    "import numpy as np\n",
    "from sklearn.datasets import load_iris"
   ]
  },
  {
   "cell_type": "code",
<<<<<<< HEAD
   "execution_count": 5,
=======
<<<<<<< HEAD
<<<<<<< HEAD
<<<<<<< HEAD
   "execution_count": 89,
=======
=======
>>>>>>> df872e6 (Added vegalite categorial and quantitive chart lists)
<<<<<<< HEAD
   "execution_count": 11,
=======
   "execution_count": 23,
>>>>>>> 5f66182 (Implemented mark customization)
<<<<<<< HEAD
>>>>>>> 0893756 (Implemented mark customization)
=======
=======
   "execution_count": 2,
>>>>>>> d60a3bf (Added vegalite categorial and quantitive chart lists)
>>>>>>> df872e6 (Added vegalite categorial and quantitive chart lists)
=======
   "execution_count": 11,
>>>>>>> 52d8dd6 (Implemented mark customization subtab)
>>>>>>> 85f30aa537c7ab4ba78cf395dffbea8190952afa
   "metadata": {},
   "outputs": [
    {
     "data": {
      "text/plain": [
       "Index(['foo', 'y', 'bar', 'baz', 'something', 'else'], dtype='object')"
      ]
     },
     "execution_count": 6,
     "metadata": {},
     "output_type": "execute_result"
    },
    {
     "data": {
      "text/plain": [
       "Index(['Name', 'Job', 'Years Worked For Jupyter'], dtype='object')"
      ]
     },
     "execution_count": 6,
     "metadata": {},
     "output_type": "execute_result"
    },
    {
     "data": {
      "text/plain": [
       "Index(['sepal length (cm)', 'sepal width (cm)', 'petal length (cm)',\n",
       "       'petal width (cm)', 'class'],\n",
       "      dtype='object')"
      ]
     },
     "execution_count": 6,
     "metadata": {},
     "output_type": "execute_result"
    }
   ],
   "source": [
    "cols = [\"foo\",\"y\", \"bar\", \"baz\", \"something\", \"else\"]\n",
    "dist = np.random.uniform(0,1, size=(1000,len(cols)))\n",
    "scatter_df = pd.DataFrame(dist, columns=cols)\n",
    "\n",
    "bar_df = pd.DataFrame([\n",
    "    [\"John\", \"Developer\", 1],\n",
    "    [\"Jay\", \"Developer\", 2],\n",
    "    [\"Angela\", \"Designer\", 1],\n",
    "    [\"Brian\", \"Leader\", 20]\n",
    "], columns=[\"Name\", \"Job\", \"Years Worked For Jupyter\"])\n",
    "\n",
    "iris_ds = load_iris()\n",
    "iris_df = pd.DataFrame(iris_ds[\"data\"], columns=iris_ds[\"feature_names\"])\n",
    "iris_df['class'] = ['iris_setosa'] * 50 + ['iris_versicolour'] * 50 + ['iris_virginica'] * 50"
   ]
  },
  {
   "cell_type": "code",
<<<<<<< HEAD
   "execution_count": 6,
=======
<<<<<<< HEAD
<<<<<<< HEAD
<<<<<<< HEAD
   "execution_count": 90,
=======
=======
>>>>>>> df872e6 (Added vegalite categorial and quantitive chart lists)
<<<<<<< HEAD
   "execution_count": 18,
=======
   "execution_count": 24,
>>>>>>> 5f66182 (Implemented mark customization)
<<<<<<< HEAD
>>>>>>> 0893756 (Implemented mark customization)
=======
=======
   "execution_count": 3,
>>>>>>> d60a3bf (Added vegalite categorial and quantitive chart lists)
>>>>>>> df872e6 (Added vegalite categorial and quantitive chart lists)
=======
   "execution_count": 12,
>>>>>>> 52d8dd6 (Implemented mark customization subtab)
>>>>>>> 85f30aa537c7ab4ba78cf395dffbea8190952afa
   "metadata": {},
   "outputs": [
    {
     "data": {
      "application/vnd.jupyter.widget-view+json": {
<<<<<<< HEAD
       "model_id": "cc29e453143146588ba6d2fdd26d0596",
=======
<<<<<<< HEAD
<<<<<<< HEAD
<<<<<<< HEAD
       "model_id": "f4e3cc8662f4458e9d530cfae50168d4",
=======
=======
>>>>>>> df872e6 (Added vegalite categorial and quantitive chart lists)
<<<<<<< HEAD
       "model_id": "e5f90098220841be87bcd294a2166ca7",
=======
       "model_id": "1f75c5c0a93c40ed83ff54f4a0f12a9d",
>>>>>>> 5f66182 (Implemented mark customization)
<<<<<<< HEAD
>>>>>>> 0893756 (Implemented mark customization)
=======
=======
       "model_id": "6504b8982f684694a9271a0eaef2ee1b",
>>>>>>> d60a3bf (Added vegalite categorial and quantitive chart lists)
>>>>>>> df872e6 (Added vegalite categorial and quantitive chart lists)
=======
       "model_id": "d2c03099559f466fb8c1e3cad56de512",
>>>>>>> 52d8dd6 (Implemented mark customization subtab)
>>>>>>> 85f30aa537c7ab4ba78cf395dffbea8190952afa
       "version_major": 2,
       "version_minor": 0
      },
      "text/plain": [
<<<<<<< HEAD
       "BifrostWidget(df_columns=['sepal length (cm)', 'sepal width (cm)', 'petal length (cm)', 'petal width (cm)', 'c…"
=======
<<<<<<< HEAD
       "BifrostWidget(df_columns=['sepal length (cm)', 'sepal width (cm)', 'petal length (cm)', 'petal width (cm)'], d…"
=======
       "BifrostWidget(df_columns=['Name', 'Job', 'Years Worked For Jupyter'], flags={'columns_provided': True, 'kind_p…"
>>>>>>> 52d8dd6 (Implemented mark customization subtab)
>>>>>>> 85f30aa537c7ab4ba78cf395dffbea8190952afa
      ]
     },
     "metadata": {},
     "output_type": "display_data"
    }
   ],
   "source": [
<<<<<<< HEAD
    "res = iris_df.bifrost.plot(x=\"sepal length (cm)\", y=\"sepal width (cm)\")"
=======
    "res = bar_df.bifrost.plot(x=\"Name\", y=\"Job\", kind=\"point\")"
>>>>>>> 52d8dd6 (Implemented mark customization subtab)
   ]
  },
  {
   "cell_type": "code",
   "execution_count": 4,
   "metadata": {},
   "outputs": [],
   "source": [
    "bar_df = bar_df[(bar_df['Name'].isin([\"Angela\",\"Jay\",\"John\"]))]\n",
    "\n"
   ]
  },
  {
   "cell_type": "code",
   "execution_count": null,
   "metadata": {},
   "outputs": [],
   "source": [
    "bar_df"
   ]
  },
  {
   "cell_type": "code",
   "execution_count": null,
   "metadata": {},
   "outputs": [],
   "source": []
  }
 ],
 "metadata": {
  "kernelspec": {
   "display_name": "Python 3 (ipykernel)",
   "language": "python",
   "name": "python3"
  },
  "language_info": {
   "codemirror_mode": {
    "name": "ipython",
    "version": 3
   },
   "file_extension": ".py",
   "mimetype": "text/x-python",
   "name": "python",
   "nbconvert_exporter": "python",
   "pygments_lexer": "ipython3",
   "version": "3.9.6"
  }
 },
 "nbformat": 4,
 "nbformat_minor": 4
}
