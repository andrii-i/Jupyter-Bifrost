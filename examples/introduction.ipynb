{
 "cells": [
  {
   "cell_type": "markdown",
   "metadata": {},
   "source": [
    "# Introduction"
   ]
  },
  {
   "cell_type": "code",
<<<<<<< HEAD
<<<<<<< HEAD
<<<<<<< HEAD
   "execution_count": 31,
=======
   "execution_count": 13,
>>>>>>> cfbd434 (Fix #7)
=======
   "execution_count": 32,
>>>>>>> 2b624ac (Add select chart styling)
=======
   "execution_count": 24,
>>>>>>> 5893ea7 (Change style on select columns onboarding)
   "metadata": {},
   "outputs": [],
   "source": [
    "import bifrost_jupyter_extension\n",
    "import pandas as pd\n",
    "import numpy as np"
   ]
  },
  {
   "cell_type": "code",
<<<<<<< HEAD
<<<<<<< HEAD
<<<<<<< HEAD
   "execution_count": 32,
=======
   "execution_count": 14,
>>>>>>> cfbd434 (Fix #7)
=======
   "execution_count": 33,
>>>>>>> 2b624ac (Add select chart styling)
=======
   "execution_count": 25,
>>>>>>> 5893ea7 (Change style on select columns onboarding)
   "metadata": {},
   "outputs": [],
   "source": [
    "cols = [\"foo\",\"y\", \"bar\", \"baz\", \"something\", \"else\"]\n",
    "dist = np.random.uniform(0,1, size=(1000,len(cols)))\n",
    "scatter_df = pd.DataFrame(dist, columns=cols)\n",
    "\n",
    "bar_df = pd.DataFrame([\n",
    "    [\"John\", \"Developer\", 1],\n",
    "    [\"Jay\", \"Developer\", 2],\n",
    "    [\"Angela\", \"Designer\", 1],\n",
    "    [\"Brian\", \"Leader\", 20]\n",
    "], columns=[\"Name\", \"Job\", \"Years Worked For Jupyter\"])"
   ]
  },
  {
   "cell_type": "code",
<<<<<<< HEAD
<<<<<<< HEAD
<<<<<<< HEAD
   "execution_count": 33,
=======
   "execution_count": 15,
>>>>>>> cfbd434 (Fix #7)
=======
   "execution_count": 34,
>>>>>>> 2b624ac (Add select chart styling)
=======
   "execution_count": 26,
>>>>>>> 5893ea7 (Change style on select columns onboarding)
   "metadata": {},
   "outputs": [
    {
     "data": {
      "application/vnd.jupyter.widget-view+json": {
<<<<<<< HEAD
<<<<<<< HEAD
<<<<<<< HEAD
       "model_id": "b93ebecc414f402f87f8d3f8c2cbb116",
=======
       "model_id": "c61aa5662d264f219600aa92669e672e",
>>>>>>> cfbd434 (Fix #7)
=======
       "model_id": "77c7f7ca93dc4f11b30265f0c7e6b7ef",
>>>>>>> 2b624ac (Add select chart styling)
=======
       "model_id": "df33e0e595024b43bb96f7154f4cc8ae",
>>>>>>> 5893ea7 (Change style on select columns onboarding)
       "version_major": 2,
       "version_minor": 0
      },
      "text/plain": [
<<<<<<< HEAD
<<<<<<< HEAD
       "BifrostWidget(df_columns=['Name', 'Job', 'Years Worked For Jupyter'], graph_data=[{'Name': 'John', 'Job': 'Dev…"
=======
       "BifrostWidget(df_columns=['foo', 'y', 'bar', 'baz'], flags={'columns_provided': True, 'kind_provided': False},…"
>>>>>>> cfbd434 (Fix #7)
=======
       "BifrostWidget(df_columns=['foo', 'y', 'bar', 'baz'], flags={'columns_provided': False, 'kind_provided': False}…"
>>>>>>> 2b624ac (Add select chart styling)
      ]
     },
     "metadata": {},
     "output_type": "display_data"
    }
   ],
   "source": [
<<<<<<< HEAD
<<<<<<< HEAD
    "res = bar_df.bifrost.plot()"
=======
    "res = df.bifrost.plot(x='foo', y='bar')"
>>>>>>> cfbd434 (Fix #7)
=======
    "res = df.bifrost.plot(x='foo')"
>>>>>>> 2b624ac (Add select chart styling)
   ]
  },
  {
   "cell_type": "code",
   "execution_count": null,
   "metadata": {},
   "outputs": [],
   "source": [
    "    "
   ]
  }
 ],
 "metadata": {
  "kernelspec": {
   "display_name": "Python 3 (ipykernel)",
   "language": "python",
   "name": "python3"
  },
  "language_info": {
   "codemirror_mode": {
    "name": "ipython",
    "version": 3
   },
   "file_extension": ".py",
   "mimetype": "text/x-python",
   "name": "python",
   "nbconvert_exporter": "python",
   "pygments_lexer": "ipython3",
   "version": "3.9.5"
  }
 },
 "nbformat": 4,
 "nbformat_minor": 4
}
